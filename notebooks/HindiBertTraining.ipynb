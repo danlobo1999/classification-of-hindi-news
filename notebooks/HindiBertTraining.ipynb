{
 "cells": [
  {
   "cell_type": "markdown",
   "id": "1c2d96ed",
   "metadata": {},
   "source": [
    "## Dependencies"
   ]
  },
  {
   "cell_type": "code",
   "execution_count": 1,
   "id": "9ded3c9f",
   "metadata": {},
   "outputs": [],
   "source": [
    "import joblib\n",
    "import numpy as np\n",
    "import pandas as pd \n",
    "from simpletransformers.classification import ClassificationModel\n",
    "from sklearn import preprocessing\n",
    "from sklearn.metrics import classification_report, confusion_matrix\n",
    "import matplotlib.pyplot as plt\n",
    "import seaborn as sn"
   ]
  },
  {
   "cell_type": "markdown",
   "id": "a4aaa3d1",
   "metadata": {},
   "source": [
    "## Paths"
   ]
  },
  {
   "cell_type": "code",
   "execution_count": 2,
   "id": "bdfca27b",
   "metadata": {},
   "outputs": [],
   "source": [
    "paths = {\"dataset\": '../dataset/bbc_hindi_cleaned',\n",
    "         \"model_path\": '../model/hindi_bert_model'}"
   ]
  },
  {
   "cell_type": "markdown",
   "id": "f9e4c8b5",
   "metadata": {},
   "source": [
    "## Loading the cleaned data"
   ]
  },
  {
   "cell_type": "markdown",
   "id": "b9c8eec7",
   "metadata": {},
   "source": [
    "#### Loading the train data"
   ]
  },
  {
   "cell_type": "code",
   "execution_count": 3,
   "id": "dbe2327c",
   "metadata": {},
   "outputs": [],
   "source": [
    "df_train = pd.read_csv(f'{paths[\"dataset\"]}/hindi-cleaned-train.csv')\n",
    "df_train.columns=['topic','text']"
   ]
  },
  {
   "cell_type": "code",
   "execution_count": 4,
   "id": "56b4e8ae",
   "metadata": {},
   "outputs": [
    {
     "name": "stdout",
     "output_type": "stream",
     "text": [
      "           topic                                               text\n",
      "0  international  इसराइल की फ़ौज का कहना है कि बंदूक़ों और टैंक ...\n",
      "1  international  शरणार्थियों के मामले देखने वाले संयुक्त राष्ट्...\n",
      "2        science  यूरोप में वैज्ञानिकों का कहना है कि एक कैन रोज...\n",
      "3  international  26 वर्षीय निकोलस विग ने कथित तौर पर एक व्यक्ति...\n",
      "4          sport  श्रीलंका की टीम इस मैच से पहले ही फ़ाइनल में प...\n"
     ]
    }
   ],
   "source": [
    "print(df_train.head())"
   ]
  },
  {
   "cell_type": "code",
   "execution_count": 5,
   "id": "aa20dbfe",
   "metadata": {},
   "outputs": [
    {
     "name": "stdout",
     "output_type": "stream",
     "text": [
      "{'entertainment', 'india', 'sport', 'science', 'international'}\n",
      "5\n"
     ]
    }
   ],
   "source": [
    "print(set(df_train[\"topic\"].values))\n",
    "print(len(set(df_train[\"topic\"].values)))"
   ]
  },
  {
   "cell_type": "markdown",
   "id": "debf9074",
   "metadata": {},
   "source": [
    "#### Encoding the classes"
   ]
  },
  {
   "cell_type": "code",
   "execution_count": 6,
   "id": "e92f4b9e",
   "metadata": {},
   "outputs": [
    {
     "name": "stdout",
     "output_type": "stream",
     "text": [
      "                                                text  label\n",
      "0  इसराइल की फ़ौज का कहना है कि बंदूक़ों और टैंक ...      2\n",
      "1  शरणार्थियों के मामले देखने वाले संयुक्त राष्ट्...      2\n",
      "2  यूरोप में वैज्ञानिकों का कहना है कि एक कैन रोज...      3\n",
      "3  26 वर्षीय निकोलस विग ने कथित तौर पर एक व्यक्ति...      2\n",
      "4  श्रीलंका की टीम इस मैच से पहले ही फ़ाइनल में प...      4\n"
     ]
    }
   ],
   "source": [
    "labeler = preprocessing.LabelEncoder()\n",
    "\n",
    "df2 = pd.DataFrame(df_train[\"text\"])\n",
    "df2 = df2.applymap(str)\n",
    "df2['label'] = labeler.fit_transform(df_train[\"topic\"])\n",
    "print(df2.head())"
   ]
  },
  {
   "cell_type": "markdown",
   "id": "353ded98",
   "metadata": {},
   "source": [
    "#### Loading and encoding the test data"
   ]
  },
  {
   "cell_type": "code",
   "execution_count": 7,
   "id": "21357db1",
   "metadata": {},
   "outputs": [
    {
     "name": "stdout",
     "output_type": "stream",
     "text": [
      "                                                text  label\n",
      "0  लेकिन मीडिया रिपोर्टों के मुताबिक इन उम्मीदवार...      2\n",
      "1  इसके विषाणुओं से सैकड़ों लोग मारे गए थे और हज़...      3\n",
      "2  विदेश में हारने के बहाने थे. लेकिन अब अपनी मुं...      4\n",
      "3  हालांकि थिएटरों के नाटकों में भी कई वर्षों से ...      2\n",
      "4  शोधकर्ताओं ने 1,250 पाउंड (लगभग एक लाख रुपए) क...      3\n"
     ]
    }
   ],
   "source": [
    "orig_test = pd.read_csv(f'{paths[\"dataset\"]}/hindi-cleaned-test.csv')\n",
    "orig_test.columns=['topic','text']\n",
    "eval_frame = pd.DataFrame(orig_test[\"text\"])\n",
    "eval_frame = eval_frame.applymap(str)\n",
    "eval_frame['label'] = labeler.fit_transform(orig_test[\"topic\"])\n",
    "print(eval_frame.head())"
   ]
  },
  {
   "cell_type": "code",
   "execution_count": 8,
   "id": "19d133da",
   "metadata": {},
   "outputs": [
    {
     "name": "stdout",
     "output_type": "stream",
     "text": [
      "345\n"
     ]
    }
   ],
   "source": [
    "print(len(eval_frame))"
   ]
  },
  {
   "cell_type": "markdown",
   "id": "cda97696",
   "metadata": {},
   "source": [
    "#### Saving the labeler"
   ]
  },
  {
   "cell_type": "code",
   "execution_count": 9,
   "id": "80bb3cdf",
   "metadata": {},
   "outputs": [
    {
     "data": {
      "text/plain": [
       "array(['entertainment', 'india', 'international', 'science', 'sport'],\n",
       "      dtype=object)"
      ]
     },
     "execution_count": 9,
     "metadata": {},
     "output_type": "execute_result"
    }
   ],
   "source": [
    "labeler.classes_"
   ]
  },
  {
   "cell_type": "code",
   "execution_count": 8,
   "id": "7574c3a7",
   "metadata": {
    "scrolled": false
   },
   "outputs": [
    {
     "data": {
      "text/plain": [
       "['model/myhindi_bert_joblib/labeler_joblib']"
      ]
     },
     "execution_count": 8,
     "metadata": {},
     "output_type": "execute_result"
    }
   ],
   "source": [
    "joblib.dump(labeler, f'{paths[\"model_path\"]}/labeler_joblib')"
   ]
  },
  {
   "cell_type": "markdown",
   "id": "29a2fa34",
   "metadata": {},
   "source": [
    "## Defining the model"
   ]
  },
  {
   "cell_type": "code",
   "execution_count": null,
   "id": "04cd0efa",
   "metadata": {},
   "outputs": [],
   "source": [
    "model = ClassificationModel('electra', 'monsoon-nlp/hindi-bert', num_labels=5, use_cuda=True, args={\n",
    "    'reprocess_input_data': True,\n",
    "    'use_cached_eval_features': False,\n",
    "    'output_dir': f'{paths[\"model_path\"]}/',\n",
    "    'overwrite_output_dir': True,\n",
    "    'num_train_epochs': 3,\n",
    "    'fp16': False,\n",
    "})"
   ]
  },
  {
   "cell_type": "markdown",
   "id": "8a51bebd",
   "metadata": {},
   "source": [
    "## Training the model"
   ]
  },
  {
   "cell_type": "code",
   "execution_count": null,
   "id": "46cbf540",
   "metadata": {},
   "outputs": [
    {
     "data": {
      "application/vnd.jupyter.widget-view+json": {
       "model_id": "834f915fe9bc405bab6d721559a0c6a9",
       "version_major": 2,
       "version_minor": 0
      },
      "text/plain": [
       "Downloading:   0%|          | 0.00/58.9M [00:00<?, ?B/s]"
      ]
     },
     "metadata": {},
     "output_type": "display_data"
    },
    {
     "name": "stderr",
     "output_type": "stream",
     "text": [
      "Some weights of the model checkpoint at monsoon-nlp/hindi-bert were not used when initializing ElectraForSequenceClassification: ['discriminator_predictions.dense.weight', 'discriminator_predictions.dense.bias', 'discriminator_predictions.dense_prediction.weight', 'discriminator_predictions.dense_prediction.bias']\n",
      "- This IS expected if you are initializing ElectraForSequenceClassification from the checkpoint of a model trained on another task or with another architecture (e.g. initializing a BertForSequenceClassification model from a BertForPreTraining model).\n",
      "- This IS NOT expected if you are initializing ElectraForSequenceClassification from the checkpoint of a model that you expect to be exactly identical (initializing a BertForSequenceClassification model from a BertForSequenceClassification model).\n",
      "Some weights of ElectraForSequenceClassification were not initialized from the model checkpoint at monsoon-nlp/hindi-bert and are newly initialized: ['pooler.dense.weight', 'pooler.dense.bias', 'classifier.weight', 'classifier.bias']\n",
      "You should probably TRAIN this model on a down-stream task to be able to use it for predictions and inference.\n"
     ]
    },
    {
     "data": {
      "application/vnd.jupyter.widget-view+json": {
       "model_id": "878c24fb10624098a7d7583cf3ae2459",
       "version_major": 2,
       "version_minor": 0
      },
      "text/plain": [
       "Downloading:   0%|          | 0.00/607k [00:00<?, ?B/s]"
      ]
     },
     "metadata": {},
     "output_type": "display_data"
    },
    {
     "data": {
      "application/vnd.jupyter.widget-view+json": {
       "model_id": "5397e18a05664376a8cf809469934bed",
       "version_major": 2,
       "version_minor": 0
      },
      "text/plain": [
       "Downloading:   0%|          | 0.00/112 [00:00<?, ?B/s]"
      ]
     },
     "metadata": {},
     "output_type": "display_data"
    },
    {
     "data": {
      "application/vnd.jupyter.widget-view+json": {
       "model_id": "5bc27cfd86c94296a87b88c2494d5eb9",
       "version_major": 2,
       "version_minor": 0
      },
      "text/plain": [
       "Downloading:   0%|          | 0.00/181 [00:00<?, ?B/s]"
      ]
     },
     "metadata": {},
     "output_type": "display_data"
    },
    {
     "name": "stderr",
     "output_type": "stream",
     "text": [
      "C:\\Users\\Danny\\AppData\\Roaming\\Python\\Python37\\site-packages\\simpletransformers\\classification\\classification_model.py:449: UserWarning: Dataframe headers not specified. Falling back to using column 0 as text and column 1 as labels.\n",
      "  \"Dataframe headers not specified. Falling back to using column 0 as text and column 1 as labels.\"\n"
     ]
    },
    {
     "data": {
      "application/vnd.jupyter.widget-view+json": {
       "model_id": "20e7b2d0f2054e228c4fab86581a4e06",
       "version_major": 2,
       "version_minor": 0
      },
      "text/plain": [
       "  0%|          | 0/1237 [00:00<?, ?it/s]"
      ]
     },
     "metadata": {},
     "output_type": "display_data"
    },
    {
     "data": {
      "application/vnd.jupyter.widget-view+json": {
       "model_id": "d88b53d1ef304fd1b8129abcdc4048cf",
       "version_major": 2,
       "version_minor": 0
      },
      "text/plain": [
       "Epoch:   0%|          | 0/3 [00:00<?, ?it/s]"
      ]
     },
     "metadata": {},
     "output_type": "display_data"
    },
    {
     "data": {
      "application/vnd.jupyter.widget-view+json": {
       "model_id": "06b118e38e574b8c81be062f92ceeebe",
       "version_major": 2,
       "version_minor": 0
      },
      "text/plain": [
       "Running Epoch 0 of 3:   0%|          | 0/155 [00:00<?, ?it/s]"
      ]
     },
     "metadata": {},
     "output_type": "display_data"
    },
    {
     "data": {
      "application/vnd.jupyter.widget-view+json": {
       "model_id": "beceee6a9bd04d03bdc73998755e4b25",
       "version_major": 2,
       "version_minor": 0
      },
      "text/plain": [
       "Running Epoch 1 of 3:   0%|          | 0/155 [00:00<?, ?it/s]"
      ]
     },
     "metadata": {},
     "output_type": "display_data"
    },
    {
     "data": {
      "application/vnd.jupyter.widget-view+json": {
       "model_id": "661a68e467e7469b9f24ad2da79c58a5",
       "version_major": 2,
       "version_minor": 0
      },
      "text/plain": [
       "Running Epoch 2 of 3:   0%|          | 0/155 [00:00<?, ?it/s]"
      ]
     },
     "metadata": {},
     "output_type": "display_data"
    }
   ],
   "source": [
    "model.train_model(df2)"
   ]
  },
  {
   "cell_type": "markdown",
   "id": "1e94dc8a",
   "metadata": {},
   "source": [
    "## Evaluating the model"
   ]
  },
  {
   "cell_type": "markdown",
   "id": "729b1922",
   "metadata": {},
   "source": [
    "#### Loading the model"
   ]
  },
  {
   "cell_type": "code",
   "execution_count": 10,
   "id": "7b105e6d",
   "metadata": {},
   "outputs": [],
   "source": [
    "model = joblib.load(f'{paths[\"model_path\"]}/model_joblib')"
   ]
  },
  {
   "cell_type": "code",
   "execution_count": 11,
   "id": "7c1bc52e",
   "metadata": {},
   "outputs": [],
   "source": [
    "eval_text = []\n",
    "eval_label = []"
   ]
  },
  {
   "cell_type": "code",
   "execution_count": 12,
   "id": "361aa912",
   "metadata": {},
   "outputs": [],
   "source": [
    "for i in range(len(eval_frame)):\n",
    "    eval_text.append(eval_frame['text'][i])\n",
    "    eval_label.append(eval_frame['label'][i])"
   ]
  },
  {
   "cell_type": "code",
   "execution_count": 13,
   "id": "e4b4eed9",
   "metadata": {},
   "outputs": [
    {
     "data": {
      "application/vnd.jupyter.widget-view+json": {
       "model_id": "dff4b211cae24c2691345d2d1f0bff95",
       "version_major": 2,
       "version_minor": 0
      },
      "text/plain": [
       "HBox(children=(FloatProgress(value=0.0, max=345.0), HTML(value='')))"
      ]
     },
     "metadata": {},
     "output_type": "display_data"
    },
    {
     "name": "stdout",
     "output_type": "stream",
     "text": [
      "\n"
     ]
    },
    {
     "data": {
      "application/vnd.jupyter.widget-view+json": {
       "model_id": "31a2f902f53349c787a73ae66619598c",
       "version_major": 2,
       "version_minor": 0
      },
      "text/plain": [
       "HBox(children=(FloatProgress(value=0.0, max=44.0), HTML(value='')))"
      ]
     },
     "metadata": {},
     "output_type": "display_data"
    },
    {
     "name": "stdout",
     "output_type": "stream",
     "text": [
      "\n"
     ]
    }
   ],
   "source": [
    "pred = model.predict(eval_text)"
   ]
  },
  {
   "cell_type": "code",
   "execution_count": 14,
   "id": "31ee1f2d",
   "metadata": {},
   "outputs": [],
   "source": [
    "eval_preds = []\n",
    "for i in range(len(pred[1])):\n",
    "    eval_preds.append(np.argmax(pred[1][i]))"
   ]
  },
  {
   "cell_type": "code",
   "execution_count": 15,
   "id": "e70653dc",
   "metadata": {},
   "outputs": [],
   "source": [
    "wrongpreds = 0\n",
    "for i in range(len(eval_label)):\n",
    "    if eval_preds[i] != eval_label[i]:\n",
    "        wrongpreds += 1"
   ]
  },
  {
   "cell_type": "markdown",
   "id": "c68dfdc1",
   "metadata": {},
   "source": [
    "#### Accuracy"
   ]
  },
  {
   "cell_type": "code",
   "execution_count": 16,
   "id": "1bbcb34e",
   "metadata": {},
   "outputs": [
    {
     "data": {
      "text/plain": [
       "0.6347826086956522"
      ]
     },
     "execution_count": 16,
     "metadata": {},
     "output_type": "execute_result"
    }
   ],
   "source": [
    "(len(eval_frame) - wrongpreds)/len(eval_frame)"
   ]
  },
  {
   "cell_type": "markdown",
   "id": "b20e0e2b",
   "metadata": {},
   "source": [
    "#### Metrics"
   ]
  },
  {
   "cell_type": "code",
   "execution_count": 17,
   "id": "49106111",
   "metadata": {},
   "outputs": [],
   "source": [
    "y_actual = labeler.inverse_transform(eval_label)"
   ]
  },
  {
   "cell_type": "code",
   "execution_count": 18,
   "id": "7d3c9388",
   "metadata": {},
   "outputs": [],
   "source": [
    "y_predicted = labeler.inverse_transform(eval_preds)"
   ]
  },
  {
   "cell_type": "code",
   "execution_count": 19,
   "id": "f8c5451e",
   "metadata": {},
   "outputs": [
    {
     "name": "stdout",
     "output_type": "stream",
     "text": [
      "               precision    recall  f1-score   support\n",
      "\n",
      "entertainment       0.65      0.87      0.75        71\n",
      "        india       0.53      0.24      0.33        70\n",
      "international       0.45      0.59      0.51        70\n",
      "      science       0.72      0.62      0.67        61\n",
      "        sport       0.82      0.84      0.83        73\n",
      "\n",
      "     accuracy                           0.63       345\n",
      "    macro avg       0.64      0.63      0.62       345\n",
      " weighted avg       0.63      0.63      0.62       345\n",
      "\n"
     ]
    }
   ],
   "source": [
    "print(classification_report(y_actual, y_predicted))"
   ]
  },
  {
   "cell_type": "markdown",
   "id": "a0555933",
   "metadata": {},
   "source": [
    "#### Confusion matrix "
   ]
  },
  {
   "cell_type": "code",
   "execution_count": 25,
   "id": "b8b764b1",
   "metadata": {
    "scrolled": false
   },
   "outputs": [
    {
     "data": {
      "text/plain": [
       "<AxesSubplot:xlabel='Predicted Label', ylabel='True Label'>"
      ]
     },
     "execution_count": 25,
     "metadata": {},
     "output_type": "execute_result"
    },
    {
     "data": {
      "image/png": "[encoded data removed]",
      "text/plain": [
       "<Figure size 432x288 with 2 Axes>"
      ]
     },
     "metadata": {},
     "output_type": "display_data"
    }
   ],
   "source": [
    "%matplotlib inline\n",
    "labels = labeler.classes_\n",
    "conf_matrix = confusion_matrix(y_actual, y_predicted, labels=labels, sample_weight=None, normalize=None)\n",
    "df_cm = pd.DataFrame(conf_matrix, index=labels, columns=labels)\n",
    "df_cm.index.name = 'True Label'\n",
    "df_cm.columns.name = 'Predicted Label'\n",
    "sn.set(font_scale=1.4)\n",
    "sn.heatmap(df_cm, annot=True, cmap=\"Blues\", annot_kws={\"size\": 16}, fmt='d')"
   ]
  },
  {
   "cell_type": "code",
   "execution_count": null,
   "id": "6feea2e5",
   "metadata": {},
   "outputs": [],
   "source": []
  }
 ],
 "metadata": {
  "kernelspec": {
   "display_name": "nlp",
   "language": "python",
   "name": "nlp"
  },
  "language_info": {
   "codemirror_mode": {
    "name": "ipython",
    "version": 3
   },
   "file_extension": ".py",
   "mimetype": "text/x-python",
   "name": "python",
   "nbconvert_exporter": "python",
   "pygments_lexer": "ipython3",
   "version": "3.7.10"
  }
 },
 "nbformat": 4,
 "nbformat_minor": 5
}
