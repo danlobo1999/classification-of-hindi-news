{
 "cells": [
  {
   "cell_type": "markdown",
   "id": "b0cc098a",
   "metadata": {},
   "source": [
    "## Dependencies"
   ]
  },
  {
   "cell_type": "code",
   "execution_count": 14,
   "id": "61cd0bba",
   "metadata": {},
   "outputs": [],
   "source": [
    "import pandas as pd\n",
    "from sklearn.utils import shuffle"
   ]
  },
  {
   "cell_type": "markdown",
   "id": "e49642f0",
   "metadata": {},
   "source": [
    "## Paths"
   ]
  },
  {
   "cell_type": "code",
   "execution_count": null,
   "id": "0f305d0c",
   "metadata": {},
   "outputs": [],
   "source": [
    "paths = {\"dataset\": '../dataset/bbc_hindi',\n",
    "         \"dataset-cleaned\": '../dataset/bbc_hindi_cleaned'}"
   ]
  },
  {
   "cell_type": "markdown",
   "id": "9e67db2d",
   "metadata": {},
   "source": [
    "## Loading the dataset"
   ]
  },
  {
   "cell_type": "code",
   "execution_count": 15,
   "id": "bc6ebcc6",
   "metadata": {},
   "outputs": [],
   "source": [
    "data_train = pd.read_csv(f'{paths[\"dataset\"]}/hindi-train.csv', sep=\"\\t\", encoding='utf-8', header=None)\n",
    "data_test = pd.read_csv(f'{paths[\"dataset\"]}/hindi-test.csv', sep=\"\\t\", encoding='utf-8', header=None)"
   ]
  },
  {
   "cell_type": "markdown",
   "id": "f2f704f3",
   "metadata": {},
   "source": [
    "## Exploring the data"
   ]
  },
  {
   "cell_type": "code",
   "execution_count": 16,
   "id": "898884c5",
   "metadata": {},
   "outputs": [
    {
     "data": {
      "text/html": [
       "<div>\n",
       "<style scoped>\n",
       "    .dataframe tbody tr th:only-of-type {\n",
       "        vertical-align: middle;\n",
       "    }\n",
       "\n",
       "    .dataframe tbody tr th {\n",
       "        vertical-align: top;\n",
       "    }\n",
       "\n",
       "    .dataframe thead th {\n",
       "        text-align: right;\n",
       "    }\n",
       "</style>\n",
       "<table border=\"1\" class=\"dataframe\">\n",
       "  <thead>\n",
       "    <tr style=\"text-align: right;\">\n",
       "      <th></th>\n",
       "      <th>1</th>\n",
       "    </tr>\n",
       "    <tr>\n",
       "      <th>0</th>\n",
       "      <th></th>\n",
       "    </tr>\n",
       "  </thead>\n",
       "  <tbody>\n",
       "    <tr>\n",
       "      <th>business</th>\n",
       "      <td>54</td>\n",
       "    </tr>\n",
       "    <tr>\n",
       "      <th>china</th>\n",
       "      <td>14</td>\n",
       "    </tr>\n",
       "    <tr>\n",
       "      <th>entertainment</th>\n",
       "      <td>285</td>\n",
       "    </tr>\n",
       "    <tr>\n",
       "      <th>india</th>\n",
       "      <td>1389</td>\n",
       "    </tr>\n",
       "    <tr>\n",
       "      <th>institutional</th>\n",
       "      <td>19</td>\n",
       "    </tr>\n",
       "    <tr>\n",
       "      <th>international</th>\n",
       "      <td>904</td>\n",
       "    </tr>\n",
       "    <tr>\n",
       "      <th>learningenglish</th>\n",
       "      <td>5</td>\n",
       "    </tr>\n",
       "    <tr>\n",
       "      <th>multimedia</th>\n",
       "      <td>12</td>\n",
       "    </tr>\n",
       "    <tr>\n",
       "      <th>news</th>\n",
       "      <td>230</td>\n",
       "    </tr>\n",
       "    <tr>\n",
       "      <th>pakistan</th>\n",
       "      <td>43</td>\n",
       "    </tr>\n",
       "    <tr>\n",
       "      <th>science</th>\n",
       "      <td>194</td>\n",
       "    </tr>\n",
       "    <tr>\n",
       "      <th>social</th>\n",
       "      <td>18</td>\n",
       "    </tr>\n",
       "    <tr>\n",
       "      <th>southasia</th>\n",
       "      <td>42</td>\n",
       "    </tr>\n",
       "    <tr>\n",
       "      <th>sport</th>\n",
       "      <td>258</td>\n",
       "    </tr>\n",
       "  </tbody>\n",
       "</table>\n",
       "</div>"
      ],
      "text/plain": [
       "                    1\n",
       "0                    \n",
       "business           54\n",
       "china              14\n",
       "entertainment     285\n",
       "india            1389\n",
       "institutional      19\n",
       "international     904\n",
       "learningenglish     5\n",
       "multimedia         12\n",
       "news              230\n",
       "pakistan           43\n",
       "science           194\n",
       "social             18\n",
       "southasia          42\n",
       "sport             258"
      ]
     },
     "execution_count": 16,
     "metadata": {},
     "output_type": "execute_result"
    }
   ],
   "source": [
    "data_train.groupby(by=0).count()"
   ]
  },
  {
   "cell_type": "markdown",
   "id": "3b316b3a",
   "metadata": {},
   "source": [
    "## Removing unwated categories"
   ]
  },
  {
   "cell_type": "code",
   "execution_count": 17,
   "id": "44aebceb",
   "metadata": {},
   "outputs": [],
   "source": [
    "data_train = data_train[data_train[0] != 'business']\n",
    "data_test = data_test[data_test[0] != 'business']\n",
    "data_train = data_train[data_train[0] != 'china']\n",
    "data_test = data_test[data_test[0] != 'china']\n",
    "data_train = data_train[data_train[0] != 'institutional']\n",
    "data_test = data_test[data_test[0] != 'institutional']\n",
    "data_train = data_train[data_train[0] != 'learningenglish']\n",
    "data_test = data_test[data_test[0] != 'learningenglish']\n",
    "data_train = data_train[data_train[0] != 'multimedia']\n",
    "data_test = data_test[data_test[0] != 'multimedia']\n",
    "data_train = data_train[data_train[0] != 'news']\n",
    "data_test = data_test[data_test[0] != 'news']\n",
    "data_train = data_train[data_train[0] != 'pakistan']\n",
    "data_test = data_test[data_test[0] != 'pakistan']\n",
    "data_train = data_train[data_train[0] != 'social']\n",
    "data_test = data_test[data_test[0] != 'social']\n",
    "data_train = data_train[data_train[0] != 'southasia']\n",
    "data_test = data_test[data_test[0] != 'southasia']"
   ]
  },
  {
   "cell_type": "code",
   "execution_count": 18,
   "id": "69c04962",
   "metadata": {},
   "outputs": [
    {
     "data": {
      "text/html": [
       "<div>\n",
       "<style scoped>\n",
       "    .dataframe tbody tr th:only-of-type {\n",
       "        vertical-align: middle;\n",
       "    }\n",
       "\n",
       "    .dataframe tbody tr th {\n",
       "        vertical-align: top;\n",
       "    }\n",
       "\n",
       "    .dataframe thead th {\n",
       "        text-align: right;\n",
       "    }\n",
       "</style>\n",
       "<table border=\"1\" class=\"dataframe\">\n",
       "  <thead>\n",
       "    <tr style=\"text-align: right;\">\n",
       "      <th></th>\n",
       "      <th>1</th>\n",
       "    </tr>\n",
       "    <tr>\n",
       "      <th>0</th>\n",
       "      <th></th>\n",
       "    </tr>\n",
       "  </thead>\n",
       "  <tbody>\n",
       "    <tr>\n",
       "      <th>entertainment</th>\n",
       "      <td>285</td>\n",
       "    </tr>\n",
       "    <tr>\n",
       "      <th>india</th>\n",
       "      <td>1389</td>\n",
       "    </tr>\n",
       "    <tr>\n",
       "      <th>international</th>\n",
       "      <td>904</td>\n",
       "    </tr>\n",
       "    <tr>\n",
       "      <th>science</th>\n",
       "      <td>194</td>\n",
       "    </tr>\n",
       "    <tr>\n",
       "      <th>sport</th>\n",
       "      <td>258</td>\n",
       "    </tr>\n",
       "  </tbody>\n",
       "</table>\n",
       "</div>"
      ],
      "text/plain": [
       "                  1\n",
       "0                  \n",
       "entertainment   285\n",
       "india          1389\n",
       "international   904\n",
       "science         194\n",
       "sport           258"
      ]
     },
     "execution_count": 18,
     "metadata": {},
     "output_type": "execute_result"
    }
   ],
   "source": [
    "data_train.groupby(by=0).count()"
   ]
  },
  {
   "cell_type": "code",
   "execution_count": 19,
   "id": "7402fbbf",
   "metadata": {},
   "outputs": [
    {
     "data": {
      "text/html": [
       "<div>\n",
       "<style scoped>\n",
       "    .dataframe tbody tr th:only-of-type {\n",
       "        vertical-align: middle;\n",
       "    }\n",
       "\n",
       "    .dataframe tbody tr th {\n",
       "        vertical-align: top;\n",
       "    }\n",
       "\n",
       "    .dataframe thead th {\n",
       "        text-align: right;\n",
       "    }\n",
       "</style>\n",
       "<table border=\"1\" class=\"dataframe\">\n",
       "  <thead>\n",
       "    <tr style=\"text-align: right;\">\n",
       "      <th></th>\n",
       "      <th>1</th>\n",
       "    </tr>\n",
       "    <tr>\n",
       "      <th>0</th>\n",
       "      <th></th>\n",
       "    </tr>\n",
       "  </thead>\n",
       "  <tbody>\n",
       "    <tr>\n",
       "      <th>entertainment</th>\n",
       "      <td>71</td>\n",
       "    </tr>\n",
       "    <tr>\n",
       "      <th>india</th>\n",
       "      <td>357</td>\n",
       "    </tr>\n",
       "    <tr>\n",
       "      <th>international</th>\n",
       "      <td>212</td>\n",
       "    </tr>\n",
       "    <tr>\n",
       "      <th>science</th>\n",
       "      <td>61</td>\n",
       "    </tr>\n",
       "    <tr>\n",
       "      <th>sport</th>\n",
       "      <td>72</td>\n",
       "    </tr>\n",
       "  </tbody>\n",
       "</table>\n",
       "</div>"
      ],
      "text/plain": [
       "                 1\n",
       "0                 \n",
       "entertainment   71\n",
       "india          357\n",
       "international  212\n",
       "science         61\n",
       "sport           72"
      ]
     },
     "execution_count": 19,
     "metadata": {},
     "output_type": "execute_result"
    }
   ],
   "source": [
    "data_test.groupby(by=0).count()"
   ]
  },
  {
   "cell_type": "markdown",
   "id": "6f029963",
   "metadata": {},
   "source": [
    "## Creating a new cleaned dataset"
   ]
  },
  {
   "cell_type": "code",
   "execution_count": 20,
   "id": "71ecaa6f",
   "metadata": {},
   "outputs": [],
   "source": [
    "data_train_india = data_train[data_train[0] == 'india']\n",
    "data_test_india = data_test[data_test[0] == 'india']\n",
    "\n",
    "data_train_international = data_train[data_train[0] == 'international']\n",
    "data_test_international = data_test[data_test[0] == 'international']"
   ]
  },
  {
   "cell_type": "code",
   "execution_count": 24,
   "id": "7536a43b",
   "metadata": {},
   "outputs": [],
   "source": [
    "data_train_india = data_train_india[0:250]\n",
    "data_train_international = data_train_international[0:250]\n",
    "\n",
    "data_test_india = data_test_india[0:70]\n",
    "data_test_international = data_test_international[0:70]"
   ]
  },
  {
   "cell_type": "code",
   "execution_count": 26,
   "id": "6b61ef51",
   "metadata": {},
   "outputs": [],
   "source": [
    "data_train = data_train[data_train[0] != 'india']\n",
    "data_test = data_test[data_test[0] != 'india']\n",
    "data_train = data_train[data_train[0] != 'international']\n",
    "data_test = data_test[data_test[0] != 'international']"
   ]
  },
  {
   "cell_type": "code",
   "execution_count": 27,
   "id": "0ebb1f6d",
   "metadata": {},
   "outputs": [],
   "source": [
    "result_train = pd.concat([data_train,data_train_india,data_train_international])\n",
    "result_test = pd.concat([data_test,data_test_india,data_test_international])"
   ]
  },
  {
   "cell_type": "code",
   "execution_count": 29,
   "id": "a7c67468",
   "metadata": {},
   "outputs": [
    {
     "data": {
      "text/html": [
       "<div>\n",
       "<style scoped>\n",
       "    .dataframe tbody tr th:only-of-type {\n",
       "        vertical-align: middle;\n",
       "    }\n",
       "\n",
       "    .dataframe tbody tr th {\n",
       "        vertical-align: top;\n",
       "    }\n",
       "\n",
       "    .dataframe thead th {\n",
       "        text-align: right;\n",
       "    }\n",
       "</style>\n",
       "<table border=\"1\" class=\"dataframe\">\n",
       "  <thead>\n",
       "    <tr style=\"text-align: right;\">\n",
       "      <th></th>\n",
       "      <th>1</th>\n",
       "    </tr>\n",
       "    <tr>\n",
       "      <th>0</th>\n",
       "      <th></th>\n",
       "    </tr>\n",
       "  </thead>\n",
       "  <tbody>\n",
       "    <tr>\n",
       "      <th>entertainment</th>\n",
       "      <td>285</td>\n",
       "    </tr>\n",
       "    <tr>\n",
       "      <th>india</th>\n",
       "      <td>250</td>\n",
       "    </tr>\n",
       "    <tr>\n",
       "      <th>international</th>\n",
       "      <td>250</td>\n",
       "    </tr>\n",
       "    <tr>\n",
       "      <th>science</th>\n",
       "      <td>194</td>\n",
       "    </tr>\n",
       "    <tr>\n",
       "      <th>sport</th>\n",
       "      <td>258</td>\n",
       "    </tr>\n",
       "  </tbody>\n",
       "</table>\n",
       "</div>"
      ],
      "text/plain": [
       "                 1\n",
       "0                 \n",
       "entertainment  285\n",
       "india          250\n",
       "international  250\n",
       "science        194\n",
       "sport          258"
      ]
     },
     "execution_count": 29,
     "metadata": {},
     "output_type": "execute_result"
    }
   ],
   "source": [
    "result_train.groupby(by=0).count()"
   ]
  },
  {
   "cell_type": "code",
   "execution_count": 30,
   "id": "bd174376",
   "metadata": {},
   "outputs": [
    {
     "data": {
      "text/html": [
       "<div>\n",
       "<style scoped>\n",
       "    .dataframe tbody tr th:only-of-type {\n",
       "        vertical-align: middle;\n",
       "    }\n",
       "\n",
       "    .dataframe tbody tr th {\n",
       "        vertical-align: top;\n",
       "    }\n",
       "\n",
       "    .dataframe thead th {\n",
       "        text-align: right;\n",
       "    }\n",
       "</style>\n",
       "<table border=\"1\" class=\"dataframe\">\n",
       "  <thead>\n",
       "    <tr style=\"text-align: right;\">\n",
       "      <th></th>\n",
       "      <th>1</th>\n",
       "    </tr>\n",
       "    <tr>\n",
       "      <th>0</th>\n",
       "      <th></th>\n",
       "    </tr>\n",
       "  </thead>\n",
       "  <tbody>\n",
       "    <tr>\n",
       "      <th>entertainment</th>\n",
       "      <td>71</td>\n",
       "    </tr>\n",
       "    <tr>\n",
       "      <th>india</th>\n",
       "      <td>70</td>\n",
       "    </tr>\n",
       "    <tr>\n",
       "      <th>international</th>\n",
       "      <td>70</td>\n",
       "    </tr>\n",
       "    <tr>\n",
       "      <th>science</th>\n",
       "      <td>61</td>\n",
       "    </tr>\n",
       "    <tr>\n",
       "      <th>sport</th>\n",
       "      <td>72</td>\n",
       "    </tr>\n",
       "  </tbody>\n",
       "</table>\n",
       "</div>"
      ],
      "text/plain": [
       "                1\n",
       "0                \n",
       "entertainment  71\n",
       "india          70\n",
       "international  70\n",
       "science        61\n",
       "sport          72"
      ]
     },
     "execution_count": 30,
     "metadata": {},
     "output_type": "execute_result"
    }
   ],
   "source": [
    "result_test.groupby(by=0).count()"
   ]
  },
  {
   "cell_type": "markdown",
   "id": "ea57780c",
   "metadata": {},
   "source": [
    "## Shuffling the data"
   ]
  },
  {
   "cell_type": "code",
   "execution_count": 34,
   "id": "a52930f9",
   "metadata": {},
   "outputs": [],
   "source": [
    "result_train = shuffle(result_train)\n",
    "result_test = shuffle(result_test)"
   ]
  },
  {
   "cell_type": "markdown",
   "id": "bbf5114a",
   "metadata": {},
   "source": [
    "## Saving the cleaned dataset"
   ]
  },
  {
   "cell_type": "code",
   "execution_count": null,
   "id": "61478736",
   "metadata": {},
   "outputs": [],
   "source": [
    "result_train.to_csv(f'{paths[\"dataset-cleaned\"]}/hindi-cleaned-train.csv', index = False)\n",
    "result_test.to_csv(f'{paths[\"dataset-cleaned\"]}/hindi-cleaned-test.csv', index = False)"
   ]
  }
 ],
 "metadata": {
  "kernelspec": {
   "display_name": "nlp",
   "language": "python",
   "name": "nlp"
  },
  "language_info": {
   "codemirror_mode": {
    "name": "ipython",
    "version": 3
   },
   "file_extension": ".py",
   "mimetype": "text/x-python",
   "name": "python",
   "nbconvert_exporter": "python",
   "pygments_lexer": "ipython3",
   "version": "3.7.10"
  }
 },
 "nbformat": 4,
 "nbformat_minor": 5
}
