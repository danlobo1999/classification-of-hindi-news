{
 "cells": [
  {
   "cell_type": "markdown",
   "id": "0d80819f",
   "metadata": {},
   "source": [
    "## Dependencies"
   ]
  },
  {
   "cell_type": "code",
   "execution_count": 2,
   "id": "46bcadcd",
   "metadata": {},
   "outputs": [],
   "source": [
    "import joblib\n",
    "import numpy as np\n",
    "from simpletransformers.classification import ClassificationModel\n",
    "from sklearn.metrics import classification_report"
   ]
  },
  {
   "cell_type": "markdown",
   "id": "c13ff1bb",
   "metadata": {},
   "source": [
    "## Paths"
   ]
  },
  {
   "cell_type": "code",
   "execution_count": 5,
   "id": "b041d213",
   "metadata": {},
   "outputs": [],
   "source": [
    "paths = {\"model\": '../model/hindi_bert_model/model_joblib',\n",
    "         \"labeler\": '../model/hindi_bert_model/labeler_joblib',\n",
    "         \"evaltests\": '../model/hindi_bert_model/customeval'}"
   ]
  },
  {
   "cell_type": "markdown",
   "id": "a05ca740",
   "metadata": {},
   "source": [
    "## Loading the model, labeler and evaluation data"
   ]
  },
  {
   "cell_type": "code",
   "execution_count": 6,
   "id": "c17a43ad",
   "metadata": {},
   "outputs": [],
   "source": [
    "model = joblib.load(f'{paths[\"model\"]}')"
   ]
  },
  {
   "cell_type": "code",
   "execution_count": 7,
   "id": "990fc590",
   "metadata": {},
   "outputs": [],
   "source": [
    "labeler = joblib.load(f'{paths[\"labeler\"]}')"
   ]
  },
  {
   "cell_type": "code",
   "execution_count": 8,
   "id": "d47a53de",
   "metadata": {},
   "outputs": [],
   "source": [
    "evaltests = joblib.load(f'{paths[\"evaltests\"]}')"
   ]
  },
  {
   "cell_type": "code",
   "execution_count": 9,
   "id": "f808868d",
   "metadata": {},
   "outputs": [
    {
     "data": {
      "text/plain": [
       "['दिल्ली के डिप्टी सीएम मनीष सिसोदिया ने कोविड टीकाकरण केंद्र पर खुद पहुंचकर वहां की स्थिति का जायजा लिया क्योंकि राष्ट्रीय राजधानी में 18+ उम्र के लोगों के लिए यह प्रक्रिया शुरू हो गई है।',\n",
       " 'इंडियन प्रीमियर लीग (IPL) में रविवार को खेले गए मुकाबले में दिल्ली कैपिटल्स ने पंजाब किंग्स को 7 विकेट से हरा दिया। दिल्ली में खेले गए मुकाबले में कप्तान ऋषभ पंत की टीम शुरू से ही हावी रही। पंजाब के कप्तान मयंक को छोड़कर टीम का कोई भी बल्लेबाज दिल्ली के बॉलर्स के आगे टिक नहीं सका। इसके बाद शिखर धवन और पृथ्वी शॉ की ताबड़तोड़ शुरुआत ने दिल्ली की जीत सुनिश्चित कर दी। आइए जानते हैं वो 5 पॉइंट जिसकी वजह से दिल्ली ने पंजाब के खिलाफ जीत दर्ज की।',\n",
       " 'दोनों अरबपति लंबी दूरी के कक्षा में जाने वाले रॉकेट लॉन्च करने की कोशिश कर रही हैं। ये दोनों अमेरिकी सरकार के ठेके के लिए एक-दूसरे से प्रतियोगिता में थीं। इसके तहत साल 2024 में ऐस्ट्रोनॉट्स को चांद पर ले जाने वाले Artemis मिशन के लिए स्पेसशिप तैयार करना था। यह कॉन्ट्रैक्ट मस्क की कंपनी को मिल गया जो बेजोस को गवारा नहीं था। बेजोस की कंपनी Blue Origin ने सोमवार को गवर्नमेंट अकाउंटबिलिटी ऑफिस (GAO) में NASA के खिलाफ विरोध दर्ज कराया है और आरोप लगाया है कि आखिर मौके पर नीलामी की कंडीशन्स को बदल दिया गया।',\n",
       " \"सऊदी अरब के यानबू बंदरगाह पर मंगलवार सुबह काले धुंए का गुबार उठते देखकर लाल सागर में किसी अज्ञात 'घटना' की आशंका जतायी जा रही है। अधिकारियों ने मंगलवार को कहा कि एक निजी सुरक्षा कंपनी ने एक जहाज पर संभावित हमले को लेकर आगाह किया था। लाल सागर में मंगलवार की घटना को लेकर विस्तृत जानकारी नहीं मिली है।\",\n",
       " 'फिल्म इंडस्ट्री में ऐसे कई अभिनेता हैं जिन्होंने अपने किरदारों से खूब प्रयोग किए और दर्शकों के दिलों पर भी राज किया। आमतौर पर अभिनेता पर्दे पर हीरो बनकर वाहवाही बटोरते हैं लेकिन कई ऐसे भी हैं जो खलनायक बनकर ही छा गए। ना अपने अभिनय से बल्कि लुक्स से भी हीरो पर भारी पड़ गए। आइए डालते हैं एक नजर ऐसे अभिनेताओं पर जो पर्दे पर खलनायक के रोल में दिखे लेकिन लुक्स की वजह से उन्होंने तालियां बटोरीं।',\n",
       " 'मशहूर फिल्म अभिनेता विल स्मिथ और अभिनेत्री जेडा पिंकेट स्मिथ की बेटी विलो स्मिथ एक बार फिर चर्चा में हैं। विलो स्मिथ ने हाल ही रेड टेबल टॉक शो के दौरान अपनी मां जेडा और दादी एड्रिएन बैनफील्ड जोंस के साथ बातचीत में अपनी पोलीमोरस लाइफस्टाइल को लेकर चर्चा की।',\n",
       " 'वैज्ञानिकों ने हमारी गैलेक्सी में किसी सितारे में होने वाले सबसे बड़े विस्फोट को स्पॉट किया है। सूरज के सबसे करीबी लाल बोने सितारे Proxima Centauri से प्लाज्मा के जेट निकलते ऑब्जर्व किए गए जो हमारे सौर मंडल में होने वाले किसी विस्फोट से 100 गुना ज्यादा शक्तिशाली था। माना जा रहा है कि इस घटना से सोलर रेडिएशन से लेकर दूसरे ग्रहों पर जीवन से जुड़े कई सवालों के जवाब मिल सकते हैं।']"
      ]
     },
     "execution_count": 9,
     "metadata": {},
     "output_type": "execute_result"
    }
   ],
   "source": [
    "evaltests"
   ]
  },
  {
   "cell_type": "markdown",
   "id": "80ba5c58",
   "metadata": {},
   "source": [
    "## Testing the model"
   ]
  },
  {
   "cell_type": "code",
   "execution_count": 10,
   "id": "eb6ae94a",
   "metadata": {},
   "outputs": [
    {
     "data": {
      "application/vnd.jupyter.widget-view+json": {
       "model_id": "b347cb05e8de4ca9a2d2bf1691fd83fd",
       "version_major": 2,
       "version_minor": 0
      },
      "text/plain": [
       "HBox(children=(FloatProgress(value=0.0, max=7.0), HTML(value='')))"
      ]
     },
     "metadata": {},
     "output_type": "display_data"
    },
    {
     "name": "stdout",
     "output_type": "stream",
     "text": [
      "\n"
     ]
    },
    {
     "data": {
      "application/vnd.jupyter.widget-view+json": {
       "model_id": "d51947de96fe4a9b84895c2a5fe98298",
       "version_major": 2,
       "version_minor": 0
      },
      "text/plain": [
       "HBox(children=(FloatProgress(value=0.0, max=1.0), HTML(value='')))"
      ]
     },
     "metadata": {},
     "output_type": "display_data"
    },
    {
     "name": "stdout",
     "output_type": "stream",
     "text": [
      "\n"
     ]
    }
   ],
   "source": [
    "preds = model.predict(evaltests)"
   ]
  },
  {
   "cell_type": "code",
   "execution_count": 11,
   "id": "e61dc23d",
   "metadata": {},
   "outputs": [
    {
     "data": {
      "text/plain": [
       "(array([1, 4, 2, 2, 0, 0, 3], dtype=int64),\n",
       " array([[-0.17097215,  0.69363421,  0.68547839,  0.48340484, -1.20443296],\n",
       "        [-0.61537796, -0.59823656, -0.34551623, -0.66128236,  1.88211143],\n",
       "        [-0.7060101 ,  0.55952919,  0.82296741,  0.54184175, -0.69925249],\n",
       "        [-0.4817645 ,  0.60241687,  0.73876971,  0.66865647, -0.99309081],\n",
       "        [ 1.50144601, -0.26904154, -0.66254967, -0.824238  , -0.54034019],\n",
       "        [ 1.42957592, -0.3409436 , -0.68199086, -0.91183782, -0.41598943],\n",
       "        [-0.77401137,  0.523579  ,  0.77431089,  0.81717116, -0.77388293]]))"
      ]
     },
     "execution_count": 11,
     "metadata": {},
     "output_type": "execute_result"
    }
   ],
   "source": [
    "preds"
   ]
  },
  {
   "cell_type": "markdown",
   "id": "b8438994",
   "metadata": {},
   "source": [
    "## Decoding the predictions"
   ]
  },
  {
   "cell_type": "code",
   "execution_count": 12,
   "id": "bb14c86e",
   "metadata": {},
   "outputs": [
    {
     "data": {
      "text/plain": [
       "array(['india', 'sport', 'international', 'international',\n",
       "       'entertainment', 'entertainment', 'science'], dtype=object)"
      ]
     },
     "execution_count": 12,
     "metadata": {},
     "output_type": "execute_result"
    }
   ],
   "source": [
    "labeler.inverse_transform(preds[0])"
   ]
  },
  {
   "cell_type": "code",
   "execution_count": null,
   "id": "2220143a",
   "metadata": {},
   "outputs": [],
   "source": []
  }
 ],
 "metadata": {
  "kernelspec": {
   "display_name": "nlp",
   "language": "python",
   "name": "nlp"
  },
  "language_info": {
   "codemirror_mode": {
    "name": "ipython",
    "version": 3
   },
   "file_extension": ".py",
   "mimetype": "text/x-python",
   "name": "python",
   "nbconvert_exporter": "python",
   "pygments_lexer": "ipython3",
   "version": "3.7.10"
  }
 },
 "nbformat": 4,
 "nbformat_minor": 5
}
